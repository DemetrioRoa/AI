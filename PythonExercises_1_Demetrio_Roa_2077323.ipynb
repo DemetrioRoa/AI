{
  "nbformat": 4,
  "nbformat_minor": 0,
  "metadata": {
    "colab": {
      "provenance": []
    },
    "kernelspec": {
      "name": "python3",
      "display_name": "Python 3"
    },
    "language_info": {
      "name": "python"
    }
  },
  "cells": [
    {
      "cell_type": "markdown",
      "source": [
        "Text Analysis Tool: Create a Python program that reads a text file and performs various analyses on its content. The program should: Count the number of words, sentences, and paragraphs. Calculate the average word length. Identify the most common words and their frequencies."
      ],
      "metadata": {
        "id": "O6Q2sgbbpSq1"
      }
    },
    {
      "cell_type": "code",
      "execution_count": null,
      "metadata": {
        "colab": {
          "base_uri": "https://localhost:8080/"
        },
        "id": "O6pIpX-Lj6d5",
        "outputId": "62c6ef5b-d646-4735-db2e-016373532e14"
      },
      "outputs": [
        {
          "output_type": "stream",
          "name": "stdout",
          "text": [
            "Enter your text: Create a Python program that reads a text file and performs various analyses on its content. The program should: Count the number of words, sentences, and paragraphs. Calculate the average word length. Identify the most common words and their frequencies.\n",
            "Number of paragraphs: 1\n",
            "Number of sentences: 5\n",
            "Number of words: 40\n",
            "Average word length: 5.40\n",
            "Most common words:\n",
            "and: 3\n",
            "the: 3\n",
            "a: 2\n",
            "program: 2\n",
            "Create: 1\n",
            "Python: 1\n",
            "that: 1\n",
            "reads: 1\n",
            "text: 1\n",
            "file: 1\n"
          ]
        }
      ],
      "source": [
        "from collections import Counter # We import the Counter class from the collections module\n",
        "\n",
        "def analyze_text(text):\n",
        "    # Split the text into paragraphs\n",
        "    paragraphs = text.split('\\n\\n')\n",
        "    num_paragraphs = len(paragraphs)\n",
        "\n",
        "    # Split the text into sentences\n",
        "    sentences = text.replace('!', '.').replace('?', '.').split('.')\n",
        "    num_sentences = len(sentences)\n",
        "\n",
        "    # Split the text into words\n",
        "    words = text.split()\n",
        "    num_words = len(words)\n",
        "\n",
        "    # Calculate the average word length\n",
        "    avg_word_length = sum(len(word) for word in words) / num_words\n",
        "\n",
        "    # Identify the most common words and their frequencies\n",
        "    word_frequencies = Counter(words)\n",
        "    most_common_words = word_frequencies.most_common(10)\n",
        "\n",
        "    print(f'Number of paragraphs: {num_paragraphs}')\n",
        "    print(f'Number of sentences: {num_sentences}')\n",
        "    print(f'Number of words: {num_words}')\n",
        "    print(f'Average word length: {avg_word_length:.2f}')\n",
        "    print('Most common words:')\n",
        "    for word, freq in most_common_words:\n",
        "        print(f'{word}: {freq}')\n",
        "\n",
        "# Test the function with your input\n",
        "text = input(\"Enter your text: \")\n",
        "analyze_text(text)\n"
      ]
    },
    {
      "cell_type": "markdown",
      "source": [
        "Hangman Game: Create a Python program that allows a user to play the game of Hangman. The program should randomly select a word from a predefined list, and the player must guess letters one at a time until they guess the word correctly or run out of attempts."
      ],
      "metadata": {
        "id": "fdvxgdmTn5LZ"
      }
    },
    {
      "cell_type": "code",
      "source": [
        "# We import the random module\n",
        "import random\n",
        "\n",
        "# This is our Hangman function\n",
        "def hangman():\n",
        "    # We define a list of words to choose from\n",
        "    words = ['kirby', 'jujutsu', 'kaguya', 'weekend', 'pizza', 'icecream', 'tacos']\n",
        "\n",
        "    word = random.choice(words)\n",
        "\n",
        "    # We create a list to store the guessed letters\n",
        "    guessed = []\n",
        "\n",
        "    attempts = 10\n",
        "\n",
        "    print(\"Let's play Hangman!\")\n",
        "\n",
        "    # We start a loop that continues until the player runs out of attempts\n",
        "    while attempts > 0:\n",
        "        guessed_word = True\n",
        "\n",
        "        # We go through each character in the word\n",
        "        for char in word:\n",
        "            if char in guessed:        # If the player has guessed the character, we print it\n",
        "                print(char, end=' ')\n",
        "            else:                      # If not, we print an underscore and set our variable to False\n",
        "                print('_', end=' ')\n",
        "                guessed_word = False\n",
        "\n",
        "        # If the player has guessed the word, we end the game\n",
        "        if guessed_word:\n",
        "            print(\"\\nYou win!\")\n",
        "            return\n",
        "\n",
        "        # We ask the player to guess a letter\n",
        "        guess = input(\"\\nGuess a letter: \")\n",
        "\n",
        "        # If the letter is in the word, we add it to the list of guessed letters\n",
        "        if guess in word:\n",
        "            guessed.append(guess)\n",
        "        # If not, we reduce the number of attempts by 1\n",
        "        else:\n",
        "            attempts -= 1\n",
        "            print(\"Incorrect! You have\", attempts, \"more guesses.\")\n",
        "\n",
        "    # If the player has run out of attempts, we end the game\n",
        "    print(\"You lose! The word was:\", word)\n",
        "\n",
        "# We call our function to start the game\n",
        "hangman()\n"
      ],
      "metadata": {
        "colab": {
          "base_uri": "https://localhost:8080/"
        },
        "id": "1VLbL7Ssn7Bh",
        "outputId": "848970c7-5bf3-4f86-f26e-e91bd4004008"
      },
      "execution_count": null,
      "outputs": [
        {
          "output_type": "stream",
          "name": "stdout",
          "text": [
            "Let's play Hangman!\n",
            "_ _ _ _ _ _ _ _ \n",
            "Guess a letter: k\n",
            "Incorrect! You have 9 more guesses.\n",
            "_ _ _ _ _ _ _ _ \n",
            "Guess a letter: a\n",
            "Incorrect! You have 8 more guesses.\n",
            "_ _ _ _ _ _ _ _ \n",
            "Guess a letter: e\n",
            "_ _ _ _ _ _ e _ \n",
            "Guess a letter: i\n",
            "Incorrect! You have 7 more guesses.\n",
            "_ _ _ _ _ _ e _ \n",
            "Guess a letter: o\n",
            "_ o _ _ _ _ e _ \n",
            "Guess a letter: u\n",
            "_ o _ _ u _ e _ \n",
            "Guess a letter: p\n",
            "_ o _ p u _ e _ \n",
            "Guess a letter: q\n",
            "Incorrect! You have 6 more guesses.\n",
            "_ o _ p u _ e _ \n",
            "Guess a letter: l\n",
            "Incorrect! You have 5 more guesses.\n",
            "_ o _ p u _ e _ \n",
            "Guess a letter: c\n",
            "c o _ p u _ e _ \n",
            "Guess a letter: m\n",
            "c o m p u _ e _ \n",
            "Guess a letter: t\n",
            "c o m p u t e _ \n",
            "Guess a letter: r\n",
            "c o m p u t e r \n",
            "You win!\n"
          ]
        }
      ]
    },
    {
      "cell_type": "markdown",
      "source": [
        "Number Guessing Game: Create a program that generates a random number between 1 and 100, and then asks the user to guess the number. The program should provide hints to the user if the guessed number is greater or less than the target number, and keep asking for a new guess until the user guesses correctly."
      ],
      "metadata": {
        "id": "YPNRk5XGZfWA"
      }
    },
    {
      "cell_type": "code",
      "source": [
        "# We import the random module\n",
        "import random\n",
        "\n",
        "def guess_the_number():\n",
        "    # Generate a random number between 1 and 100\n",
        "    number_to_guess = random.randint(1, 100)\n",
        "\n",
        "    # Ask the user to guess the number\n",
        "    guess = int(input(\"Guess a number between 1 and 100: \"))\n",
        "\n",
        "    # Keep asking for a new guess until the user guesses correctly\n",
        "    while guess != number_to_guess:\n",
        "        # Provide a hint if the guessed number is less than the target number\n",
        "        if guess < number_to_guess:\n",
        "            print(\"Too low!\")\n",
        "        # Provide a hint if the guessed number is greater than the target number\n",
        "        else:\n",
        "            print(\"Too high!\")\n",
        "        # Ask for a new guess\n",
        "        guess = int(input(\"Try again: \"))\n",
        "\n",
        "    # Congratulate the user when they guess correctly\n",
        "    print(\"Congratulations! You guessed the number.\")\n",
        "\n",
        "# Start the game\n",
        "guess_the_number()\n"
      ],
      "metadata": {
        "colab": {
          "base_uri": "https://localhost:8080/"
        },
        "id": "PlGxbtAdZjaW",
        "outputId": "5e918637-43f7-468f-bac5-de400bf46955"
      },
      "execution_count": null,
      "outputs": [
        {
          "output_type": "stream",
          "name": "stdout",
          "text": [
            "Guess a number between 1 and 100: 50\n",
            "Too low!\n",
            "Try again: 99\n",
            "Too high!\n",
            "Try again: 75\n",
            "Too low!\n",
            "Try again: 80\n",
            "Too low!\n",
            "Try again: 85\n",
            "Too low!\n",
            "Try again: 90\n",
            "Too low!\n",
            "Try again: 95\n",
            "Too low!\n",
            "Try again: 97\n",
            "Too low!\n",
            "Try again: 98\n",
            "Congratulations! You guessed the number.\n"
          ]
        }
      ]
    }
  ]
}
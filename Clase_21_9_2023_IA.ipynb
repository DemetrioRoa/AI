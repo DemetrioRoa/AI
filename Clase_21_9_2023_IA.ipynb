{
  "nbformat": 4,
  "nbformat_minor": 0,
  "metadata": {
    "colab": {
      "provenance": []
    },
    "kernelspec": {
      "name": "python3",
      "display_name": "Python 3"
    },
    "language_info": {
      "name": "python"
    }
  },
  "cells": [
    {
      "cell_type": "code",
      "source": [
        "Machine Learning"
      ],
      "metadata": {
        "id": "0ig3WTN4fWES"
      },
      "execution_count": null,
      "outputs": []
    },
    {
      "cell_type": "markdown",
      "source": [
        "Codigo para calcular numeros primos en un intervalo que determinemos"
      ],
      "metadata": {
        "id": "O6Q2sgbbpSq1"
      }
    },
    {
      "cell_type": "code",
      "execution_count": null,
      "metadata": {
        "colab": {
          "base_uri": "https://localhost:8080/"
        },
        "id": "O6pIpX-Lj6d5",
        "outputId": "008e16d1-d8fa-424e-eae2-b6bf7d72a9cd"
      },
      "outputs": [
        {
          "output_type": "stream",
          "name": "stdout",
          "text": [
            "Introduce el inicio del rango: 8\n",
            "Introduce el fin del rango: 20\n",
            "Los números primos en el rango dado son:  [11, 13, 17, 19]\n"
          ]
        }
      ],
      "source": [
        "def es_primo(n):\n",
        "    if n < 2:\n",
        "        return False\n",
        "    for i in range(2, int(n**0.5) + 1):\n",
        "        if n % i == 0:\n",
        "            return False\n",
        "    return True\n",
        "\n",
        "inicio = int(input(\"Introduce el inicio del rango: \"))\n",
        "fin = int(input(\"Introduce el fin del rango: \"))\n",
        "\n",
        "primos = [n for n in range(inicio, fin+1) if es_primo(n)]\n",
        "print(\"Los números primos en el rango dado son: \", primos)\n"
      ]
    },
    {
      "cell_type": "markdown",
      "source": [
        "Codigo que funcione como calculadora en base a 2 numeros"
      ],
      "metadata": {
        "id": "fdvxgdmTn5LZ"
      }
    },
    {
      "cell_type": "code",
      "source": [
        "# Definimos las funciones para cada operación\n",
        "def suma(a, b):\n",
        "    return a + b\n",
        "\n",
        "def resta(a, b):\n",
        "    return a - b\n",
        "\n",
        "def multiplicacion(a, b):\n",
        "    return a * b\n",
        "\n",
        "def division(a, b):\n",
        "    if b == 0:\n",
        "        return \"Error: División por cero\"\n",
        "    else:\n",
        "        return a / b\n",
        "\n",
        "# Solicitamos al usuario que introduzca dos números\n",
        "num1 = float(input(\"Introduce el primer número: \"))\n",
        "num2 = float(input(\"Introduce el segundo número: \"))\n",
        "\n",
        "# Solicitamos al usuario que elija una operación\n",
        "print(\"\\n1. Suma\\n2. Resta\\n3. Multiplicación\\n4. División\")\n",
        "opcion = int(input(\"Elige una operación: \"))\n",
        "\n",
        "# Realizamos la operación seleccionada\n",
        "if opcion == 1:\n",
        "    resultado = suma(num1, num2)\n",
        "elif opcion == 2:\n",
        "    resultado = resta(num1, num2)\n",
        "elif opcion == 3:\n",
        "    resultado = multiplicacion(num1, num2)\n",
        "elif opcion == 4:\n",
        "    resultado = division(num1, num2)\n",
        "else:\n",
        "    resultado = \"Opción inválida\"\n",
        "\n",
        "print(\"El resultado es: \", resultado)\n"
      ],
      "metadata": {
        "colab": {
          "base_uri": "https://localhost:8080/"
        },
        "id": "1VLbL7Ssn7Bh",
        "outputId": "1386bb53-8419-4557-e1b8-581bd61c2d6a"
      },
      "execution_count": null,
      "outputs": [
        {
          "output_type": "stream",
          "name": "stdout",
          "text": [
            "Introduce el primer número: 6\n",
            "Introduce el segundo número: 8\n",
            "\n",
            "1. Suma\n",
            "2. Resta\n",
            "3. Multiplicación\n",
            "4. División\n",
            "Elige una operación: 1\n",
            "El resultado es:  14.0\n"
          ]
        }
      ]
    }
  ]
}